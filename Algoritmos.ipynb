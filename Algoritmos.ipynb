{
 "cells": [
  {
   "cell_type": "markdown",
   "id": "cb5ecb14",
   "metadata": {},
   "source": [
    "# Clustering o Agrupacion\n",
    "\n",
    "* Se pueden clasiicar clientes de un banco por sus ingresos"
   ]
  },
  {
   "cell_type": "markdown",
   "id": "4bcdd0db",
   "metadata": {},
   "source": [
    "## ¿Que es un cluster?\n",
    "* Coleccion de objetos con caracteristicas similares entre si y diferentes con los demas\n",
    "\n",
    "## Metricas de rendimiento\n",
    "+ Inercia: Distancia de todos los puntos de un mismo cluster respecto a su centroide. UNA UNERCIA BAJA INDICA UN BUEN RENDIMIENTO\n",
    "* Indice Dunn: Asegura que los clusteres esten lo mas lejanos posibles"
   ]
  },
  {
   "cell_type": "markdown",
   "id": "7fef9b84",
   "metadata": {},
   "source": [
    "----------------------------------"
   ]
  },
  {
   "cell_type": "markdown",
   "id": "2fbd085c",
   "metadata": {},
   "source": [
    "# ALGORITMOS de Agrupamiento"
   ]
  },
  {
   "cell_type": "markdown",
   "id": "ccbe0c28",
   "metadata": {},
   "source": [
    "## 1. K-means\n",
    "Determina el centro del cluster con el valor medio de los datos asumiendo que los datos en un radio r forman un cluster\n",
    "### VENTAJAS\n",
    "* Es rapido\n",
    "* Funciona bien cuando los datos no tienen una estructura espacial aleatoria\n",
    "\n",
    "### DESVENTAJAS\n",
    "* Nosotros definimos cuantos clusteres hay\n",
    "* La seleccion es aleatoria por lo que se pueden dar dos resultados diferentes en una misma ejecucion\n",
    "* Es sensible al ruido y datos atipicos\n",
    "* Los grupos se asumen que estan de manera circular"
   ]
  },
  {
   "cell_type": "markdown",
   "id": "fdeeb3d1",
   "metadata": {},
   "source": [
    "## 2. Agrupamiento Mean Shift\n",
    "Busca encontrar las zonas con mas densidades de puntos hasta que todos los datos queden en una venetana de densidad mayor\n",
    "### VENTAJAS\n",
    "* El algoritmo elige el nro de clusters\n",
    "\n",
    "### DESVENTAJAS\n",
    "* El radio r de la ventana es dificil de establecer"
   ]
  },
  {
   "cell_type": "markdown",
   "id": "81115ee6",
   "metadata": {},
   "source": [
    "## 3. DBSCAN (Agrupamiento espacial basado en la densidad de aplicaciones con ruido)\n",
    "Con una distancia epsilon se empiezan a agrupar los vecinos mas cercanos hasta visitar todos los puntos\n",
    "### VENTAJAS\n",
    "* No requiere un nro predeterminado de clusters\n",
    "* Identifica los untos que actuan como ruido\n",
    "\n",
    "### DESVENTAJAS\n",
    "* El valor epsilon puede no funcionar cuando las distancias entre puntos de un cluster a otro son diferentes, es decir cuando un cluster se puede agrupar con un epsilon pero ese mismo epsilon no agrupa bien otro cluster entre los mismos datos\n"
   ]
  },
  {
   "cell_type": "markdown",
   "id": "64d58a14",
   "metadata": {},
   "source": [
    "## 4. Mezcla Gaussiana (GMM)\n",
    "Es similar al k-means solo que aqui se tiene ua desviacion en X y en Y, dando clusteres en formas elipticas. No se limita a circulos como k-means\n",
    "\n",
    "### VENTAJAS\n",
    "Menciona en probabilidades la pertenecia a uo u otro grupo, por lo que para datos no tan seguros se puede dar la probabilidad x de que pertenezca a un cluster X y la probabilidad a que pertenezca a un cluster Y del mismo cjto de datos\n",
    "\n",
    "### DESVENTAJAS\n",
    "* Se deben seleccionar el numero de clusters"
   ]
  },
  {
   "cell_type": "markdown",
   "id": "8d8b4007",
   "metadata": {},
   "source": [
    "## 5. Agrupamiento Jerarquico\n",
    "Toma todos los datos como un cluster y luego los fusiona hasta que haya convergencia a un unico cluster seleccionando luego hasta que rama conviene mantener el cluster. Es similar a representarlo como un arbol o un dendograma. La raiz del arbol es el unico cluster que recoge todos los datos\n",
    "\n",
    "### VENTAJAS\n",
    "* No requiere que especifiquemos el nro de clusters\n",
    "* El algoritmo va construyendo el arbol con una funcion de distancia por lo que nosotros no tenemos que darle este aprametro"
   ]
  }
 ],
 "metadata": {
  "kernelspec": {
   "display_name": "Python 3 (ipykernel)",
   "language": "python",
   "name": "python3"
  },
  "language_info": {
   "codemirror_mode": {
    "name": "ipython",
    "version": 3
   },
   "file_extension": ".py",
   "mimetype": "text/x-python",
   "name": "python",
   "nbconvert_exporter": "python",
   "pygments_lexer": "ipython3",
   "version": "3.9.13"
  }
 },
 "nbformat": 4,
 "nbformat_minor": 5
}
