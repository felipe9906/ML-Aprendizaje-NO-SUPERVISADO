{
 "cells": [
  {
   "cell_type": "markdown",
   "id": "5922455b",
   "metadata": {},
   "source": [
    "# DBSCAN (Agrupacion espacial de aplicaciones con ruido basada en la densidad)\n",
    "\n",
    "Es bueno para agrupar datos con alto ruido y valores atipicos. Separa regiones de altas densidades de bajas densidades.   No necesita especificar K y los clusteres pueden ser de cualquier forma no necesariamente circulares.\n",
    "\n",
    "IMPORTANTE: Es muy sensible a sus parametros.\n",
    "\n",
    "* Epsilon: radio maximo para que un punto sea considerado dentro de un cluster\n",
    "* Puntos Minimos: Puntos necesarios para que un cjto de datos se considere un cluster con densidad\n",
    "\n",
    "Tipos de puntos:\n",
    "\n",
    "    * Punto de nucleo: aquel que esta dentro del cluster\n",
    "    * punto de BORDE: Aquel que no esta en el cluster pero esta en vecindad.\n",
    "    * Punto de ruido: Los demas puntos\n",
    "\n"
   ]
  },
  {
   "cell_type": "code",
   "execution_count": 1,
   "id": "ab648157",
   "metadata": {},
   "outputs": [],
   "source": [
    "import pandas as pd\n",
    "import numpy as np\n",
    "import matplotlib.pyplot as plt"
   ]
  },
  {
   "cell_type": "code",
   "execution_count": 2,
   "id": "52d90daf",
   "metadata": {},
   "outputs": [],
   "source": [
    "clientes = pd.read_csv(\"Clientes Ventas.csv\")\n",
    "\n",
    "#Seleccionando las columnas que se usaran\n",
    "clientes = clientes.iloc[:, 2:]\n",
    "\n",
    "#Cambiando el nombre de las columnas\n",
    "clientes.columns=[\"Verduras\", \"Leche\", \"Comestibles\", \"Congelados\",\"PapelyDetergentes\",\"Otros\"]"
   ]
  },
  {
   "cell_type": "markdown",
   "id": "574f6e6c",
   "metadata": {},
   "source": [
    "### Seleccioando una Muestra para luego categorizarlo"
   ]
  },
  {
   "cell_type": "code",
   "execution_count": 5,
   "id": "9928560b",
   "metadata": {},
   "outputs": [
    {
     "data": {
      "text/html": [
       "<div>\n",
       "<style scoped>\n",
       "    .dataframe tbody tr th:only-of-type {\n",
       "        vertical-align: middle;\n",
       "    }\n",
       "\n",
       "    .dataframe tbody tr th {\n",
       "        vertical-align: top;\n",
       "    }\n",
       "\n",
       "    .dataframe thead th {\n",
       "        text-align: right;\n",
       "    }\n",
       "</style>\n",
       "<table border=\"1\" class=\"dataframe\">\n",
       "  <thead>\n",
       "    <tr style=\"text-align: right;\">\n",
       "      <th></th>\n",
       "      <th>Verduras</th>\n",
       "      <th>Leche</th>\n",
       "      <th>Comestibles</th>\n",
       "      <th>Congelados</th>\n",
       "      <th>PapelyDetergentes</th>\n",
       "      <th>Otros</th>\n",
       "    </tr>\n",
       "  </thead>\n",
       "  <tbody>\n",
       "    <tr>\n",
       "      <th>60</th>\n",
       "      <td>8590</td>\n",
       "      <td>3045</td>\n",
       "      <td>7854</td>\n",
       "      <td>96</td>\n",
       "      <td>4095</td>\n",
       "      <td>225</td>\n",
       "    </tr>\n",
       "    <tr>\n",
       "      <th>113</th>\n",
       "      <td>14438</td>\n",
       "      <td>2295</td>\n",
       "      <td>1733</td>\n",
       "      <td>3220</td>\n",
       "      <td>585</td>\n",
       "      <td>1561</td>\n",
       "    </tr>\n",
       "    <tr>\n",
       "      <th>346</th>\n",
       "      <td>2771</td>\n",
       "      <td>6939</td>\n",
       "      <td>15541</td>\n",
       "      <td>2693</td>\n",
       "      <td>6600</td>\n",
       "      <td>1115</td>\n",
       "    </tr>\n",
       "  </tbody>\n",
       "</table>\n",
       "</div>"
      ],
      "text/plain": [
       "     Verduras  Leche  Comestibles  Congelados  PapelyDetergentes  Otros\n",
       "60       8590   3045         7854          96               4095    225\n",
       "113     14438   2295         1733        3220                585   1561\n",
       "346      2771   6939        15541        2693               6600   1115"
      ]
     },
     "execution_count": 5,
     "metadata": {},
     "output_type": "execute_result"
    }
   ],
   "source": [
    "indices = [60, 113, 346]\n",
    "muestras=pd.DataFrame(clientes.loc[indices])\n",
    "clientes = clientes.drop(indices, axis=0) # Se eliminan del DF original para que el modelo no los tome\n",
    "muestras"
   ]
  },
  {
   "cell_type": "markdown",
   "id": "a89d249d",
   "metadata": {},
   "source": [
    "## Escalando los datos"
   ]
  },
  {
   "cell_type": "code",
   "execution_count": 6,
   "id": "4d762769",
   "metadata": {},
   "outputs": [],
   "source": [
    "from sklearn import preprocessing\n",
    "\n",
    "data_escalada = preprocessing.Normalizer().fit_transform(clientes)\n",
    "#data_escalada\n",
    "\n",
    "muestras= preprocessing.Normalizer().fit_transform(muestras)"
   ]
  },
  {
   "cell_type": "markdown",
   "id": "12629d1c",
   "metadata": {},
   "source": [
    "### Usando el Modelo"
   ]
  },
  {
   "cell_type": "code",
   "execution_count": 8,
   "id": "9cd15ce5",
   "metadata": {},
   "outputs": [],
   "source": [
    "# Definiendo la variable\n",
    "x = data_escalada"
   ]
  },
  {
   "cell_type": "code",
   "execution_count": 11,
   "id": "246496a4",
   "metadata": {},
   "outputs": [],
   "source": [
    "#DEFINIENDO EL ALGORITMO\n",
    "from sklearn.cluster import DBSCAN\n",
    "\n",
    "algoritmo = DBSCAN(eps=0.12, min_samples=1, metric=\"euclidean\") #min_sampes= Numero minimo de puntos para formar un cluster"
   ]
  },
  {
   "cell_type": "code",
   "execution_count": 17,
   "id": "b4d02973",
   "metadata": {},
   "outputs": [],
   "source": [
    "#ENTRENANDO EL ALGORITMO\n",
    "algoritmo.fit(x)\n",
    "predc_1 = algoritmo.fit_predict(x)"
   ]
  },
  {
   "cell_type": "code",
   "execution_count": 15,
   "id": "b73502bd",
   "metadata": {},
   "outputs": [
    {
     "name": "stdout",
     "output_type": "stream",
     "text": [
      "El valor 0 se encuentra en el cluster 0\n",
      "El valor 1 se encuentra en el cluster 1\n",
      "El valor 2 se encuentra en el cluster 2\n"
     ]
    }
   ],
   "source": [
    "#REALIZANDO PREDICCIONES\n",
    "predicciones = algoritmo.fit_predict(muestras)\n",
    "\n",
    "for i, j in enumerate(predicciones):\n",
    "    print(f\"El valor {i} se encuentra en el cluster {j}\")"
   ]
  }
 ],
 "metadata": {
  "kernelspec": {
   "display_name": "Python 3 (ipykernel)",
   "language": "python",
   "name": "python3"
  },
  "language_info": {
   "codemirror_mode": {
    "name": "ipython",
    "version": 3
   },
   "file_extension": ".py",
   "mimetype": "text/x-python",
   "name": "python",
   "nbconvert_exporter": "python",
   "pygments_lexer": "ipython3",
   "version": "3.9.13"
  }
 },
 "nbformat": 4,
 "nbformat_minor": 5
}
