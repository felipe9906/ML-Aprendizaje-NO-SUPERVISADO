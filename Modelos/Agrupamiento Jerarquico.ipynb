{
 "cells": [
  {
   "cell_type": "markdown",
   "id": "fcf707e3",
   "metadata": {},
   "source": [
    "# Agrupamiento Jerarquico\n",
    "* Su estructura se asemeja a un arbol o un dendograma\n",
    "* Existen dos tipos de agrupacion en este caso:\n",
    "    * Aglomerativa: o Ascedente, cada dato es un cluster y se va fucionando con sus vecinos hasta obtener un cluster general. El usuario elige en que punto los clusters cumplen las condiciones requeridas\n",
    "    * Divisivo: Es inverso al proceso aglomerativo, todos los datos empiezan como un cluster y se van dividiendo\n",
    "    \n",
    "### Medidas de Vinculación\n",
    "* Enlace Completo: Fusiona los clusteres segun la distancia Maxima entre clusteres.\n",
    "* Enlace Simple: Fusiona los clusteres segun su distancia minima entre ellos.\n",
    "* Enlace Promedio: Distancia media entre clusteres\n",
    "* Metodo del centroide: Distancia entre centroides de cada cluster\n",
    "* Metodo de Ward: Considera la suma de las distancias cuadradas dentro de los datos del cluster\n",
    "\n",
    "Recomedados: Simple para patrones claros, figuras definidas. Ward: puntos con altas dispersiones y sin definiciones claras de patrones evidentes.\n",
    "\n",
    "### Medidas de distancia\n",
    "1. Euclidiana: Medida recta entre dos puntos.\n",
    "2. Manhattan: Calcula el cuadrado entre las distancias de los ejes tanto X, Y y Z\n",
    "3. Distancia del coseno\n",
    "\n",
    "# Algunas desventajas:\n",
    "    * Es sensible al ruido\n",
    "    * Es computacionalmente costoso por lo que no se recomienda para grandes volumenes de datos\n",
    "    * Se debe definir K clusteres"
   ]
  },
  {
   "cell_type": "code",
   "execution_count": 11,
   "id": "eee23ce6",
   "metadata": {},
   "outputs": [],
   "source": [
    "import pandas as pd\n",
    "import numpy as np\n",
    "import matplotlib.pyplot as plt"
   ]
  },
  {
   "cell_type": "code",
   "execution_count": 4,
   "id": "52d90daf",
   "metadata": {},
   "outputs": [],
   "source": [
    "# PREPARANDO LOS DATOS A USAR\n",
    "clientes = pd.read_csv(\"Clientes Ventas.csv\")\n",
    "\n",
    "#Seleccionando las columnas que se usaran\n",
    "clientes = clientes.iloc[:, 2:]\n",
    "\n",
    "#Cambiando el nombre de las columnas\n",
    "clientes.columns=[\"Verduras\", \"Leche\", \"Comestibles\", \"Congelados\",\"PapelyDetergentes\",\"Otros\"]"
   ]
  },
  {
   "cell_type": "code",
   "execution_count": 3,
   "id": "b10f9fe9",
   "metadata": {},
   "outputs": [
    {
     "data": {
      "text/html": [
       "<div>\n",
       "<style scoped>\n",
       "    .dataframe tbody tr th:only-of-type {\n",
       "        vertical-align: middle;\n",
       "    }\n",
       "\n",
       "    .dataframe tbody tr th {\n",
       "        vertical-align: top;\n",
       "    }\n",
       "\n",
       "    .dataframe thead th {\n",
       "        text-align: right;\n",
       "    }\n",
       "</style>\n",
       "<table border=\"1\" class=\"dataframe\">\n",
       "  <thead>\n",
       "    <tr style=\"text-align: right;\">\n",
       "      <th></th>\n",
       "      <th>Verduras</th>\n",
       "      <th>Leche</th>\n",
       "      <th>Comestibles</th>\n",
       "      <th>Congelados</th>\n",
       "      <th>PapelyDetergentes</th>\n",
       "      <th>Otros</th>\n",
       "    </tr>\n",
       "  </thead>\n",
       "  <tbody>\n",
       "    <tr>\n",
       "      <th>23</th>\n",
       "      <td>26373</td>\n",
       "      <td>36423</td>\n",
       "      <td>22019</td>\n",
       "      <td>5154</td>\n",
       "      <td>4337</td>\n",
       "      <td>16523</td>\n",
       "    </tr>\n",
       "    <tr>\n",
       "      <th>126</th>\n",
       "      <td>19219</td>\n",
       "      <td>1840</td>\n",
       "      <td>1658</td>\n",
       "      <td>8195</td>\n",
       "      <td>349</td>\n",
       "      <td>483</td>\n",
       "    </tr>\n",
       "    <tr>\n",
       "      <th>360</th>\n",
       "      <td>19746</td>\n",
       "      <td>2872</td>\n",
       "      <td>2006</td>\n",
       "      <td>2601</td>\n",
       "      <td>468</td>\n",
       "      <td>503</td>\n",
       "    </tr>\n",
       "  </tbody>\n",
       "</table>\n",
       "</div>"
      ],
      "text/plain": [
       "     Verduras  Leche  Comestibles  Congelados  PapelyDetergentes  Otros\n",
       "23      26373  36423        22019        5154               4337  16523\n",
       "126     19219   1840         1658        8195                349    483\n",
       "360     19746   2872         2006        2601                468    503"
      ]
     },
     "execution_count": 3,
     "metadata": {},
     "output_type": "execute_result"
    }
   ],
   "source": [
    "# SELECCIONANDO UNA MUESTRA PARA LUEGO CLASIFICARLA\n",
    "indices = [23, 126, 360]\n",
    "muestras=pd.DataFrame(clientes.loc[indices])\n",
    "clientes = clientes.drop(indices, axis=0) # Se eliminan del DF original para que el modelo no los tome"
   ]
  },
  {
   "cell_type": "markdown",
   "id": "a89d249d",
   "metadata": {},
   "source": [
    "## Escalando los datos"
   ]
  },
  {
   "cell_type": "code",
   "execution_count": 7,
   "id": "4d762769",
   "metadata": {},
   "outputs": [],
   "source": [
    "from sklearn import preprocessing\n",
    "\n",
    "data_escalada = preprocessing.Normalizer().fit_transform(clientes)\n",
    "\n",
    "muestras= preprocessing.Normalizer().fit_transform(muestras)"
   ]
  },
  {
   "cell_type": "code",
   "execution_count": 8,
   "id": "dc885dc0",
   "metadata": {},
   "outputs": [],
   "source": [
    "# Definiendo datos para el Modelo\n",
    "x = data_escalada"
   ]
  },
  {
   "cell_type": "markdown",
   "id": "80d57579",
   "metadata": {},
   "source": [
    "-------------"
   ]
  },
  {
   "cell_type": "markdown",
   "id": "807ec7ec",
   "metadata": {},
   "source": [
    "## Entrenando el MODELO"
   ]
  },
  {
   "cell_type": "code",
   "execution_count": 17,
   "id": "a4bf0d4d",
   "metadata": {},
   "outputs": [
    {
     "data": {
      "image/png": "[encoded data removed]",
      "text/plain": [
       "<Figure size 800x600 with 1 Axes>"
      ]
     },
     "metadata": {},
     "output_type": "display_data"
    }
   ],
   "source": [
    "import scipy.cluster.hierarchy as shc #Graficas del dendrograma\n",
    "\n",
    "plt.figure(figsize=(8,6))\n",
    "plt.title(\"Dendrograma\")\n",
    "dendrograma = shc.dendrogram(shc.linkage(x, method=\"ward\")) #Metodo de Vinculacion\n",
    "\n",
    "#IMPORTANTE: Al hacer el dendrograma se analiza la linea mas larga y ahi se observa el nro de K que se deberia usar, \n",
    "#para este caso K=3"
   ]
  },
  {
   "cell_type": "code",
   "execution_count": 18,
   "id": "5634790f",
   "metadata": {},
   "outputs": [],
   "source": [
    "from sklearn.cluster import AgglomerativeClustering"
   ]
  },
  {
   "cell_type": "code",
   "execution_count": 20,
   "id": "d33cc97d",
   "metadata": {},
   "outputs": [],
   "source": [
    "# DEFINIENDO EL ALGORITMO\n",
    "algoritmo = AgglomerativeClustering(n_clusters=3, affinity=\"euclidean\", linkage=\"ward\")"
   ]
  },
  {
   "cell_type": "code",
   "execution_count": 23,
   "id": "300c5124",
   "metadata": {},
   "outputs": [
    {
     "data": {
      "text/plain": [
       "AgglomerativeClustering(n_clusters=3)"
      ]
     },
     "execution_count": 23,
     "metadata": {},
     "output_type": "execute_result"
    }
   ],
   "source": [
    "#ENTRENANDO EL MODELO\n",
    "algoritmo.fit(x)"
   ]
  },
  {
   "cell_type": "code",
   "execution_count": 28,
   "id": "45d6537b",
   "metadata": {},
   "outputs": [],
   "source": [
    "### PREDECIR DATOS DE MUESTRA\n",
    "predicciones = algoritmo.fit_predict(muestras)# No olvidar que la muestra debe estar escalada"
   ]
  },
  {
   "cell_type": "markdown",
   "id": "db9990ac",
   "metadata": {},
   "source": [
    "## MOSTRANDO LOS RESULTADOS"
   ]
  },
  {
   "cell_type": "code",
   "execution_count": 27,
   "id": "1929b23c",
   "metadata": {},
   "outputs": [
    {
     "name": "stdout",
     "output_type": "stream",
     "text": [
      "La muestra 0 se encuentra en el cluster 1\n",
      "La muestra 1 se encuentra en el cluster 2\n",
      "La muestra 2 se encuentra en el cluster 0\n"
     ]
    }
   ],
   "source": [
    "for i,j in enumerate(predicciones):\n",
    "    print(f\"La muestra {i} se encuentra en el cluster {j}\")"
   ]
  }
 ],
 "metadata": {
  "kernelspec": {
   "display_name": "Python 3 (ipykernel)",
   "language": "python",
   "name": "python3"
  },
  "language_info": {
   "codemirror_mode": {
    "name": "ipython",
    "version": 3
   },
   "file_extension": ".py",
   "mimetype": "text/x-python",
   "name": "python",
   "nbconvert_exporter": "python",
   "pygments_lexer": "ipython3",
   "version": "3.9.13"
  }
 },
 "nbformat": 4,
 "nbformat_minor": 5
}
