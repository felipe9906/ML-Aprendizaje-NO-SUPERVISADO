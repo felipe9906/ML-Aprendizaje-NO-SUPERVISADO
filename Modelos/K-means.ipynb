{
 "cells": [
  {
   "cell_type": "markdown",
   "id": "ef0cdaac",
   "metadata": {},
   "source": [
    "# K-Means\n",
    "* El objetivo es clasificar en grupos datos NO ETIQUETADOS\n",
    "\n",
    "### Resultados del Algoritmo\n",
    "* Los centroides de cada grupo\n",
    "* Etiqueta de cada dato sobre el cluster asignado\n",
    "\n",
    "### Definir criterio de parada\n",
    "    * El criterio puede ser :\n",
    "        * Lo centroides de los cluteres no cambian\n",
    "        * Los puntos permanecen en el mismo grupo\n",
    "        * Se alcanza el nro maximo de iteracciones\n",
    "\n",
    "### Identificar buenos grupos de resultado\n",
    "* Inercia: Se busca un valor bajo de inercia. Muestra la distancia de los datos entre dos clusteres\n",
    "* Punto de la Silueta: Indica la distancia entre los puntos de dos clusteres diferentes. Su puntuacion se da de -1 a 1 siendo -1 un mal resultado y 1 un muy buen resultado\n"
   ]
  },
  {
   "cell_type": "markdown",
   "id": "3ca8fe79",
   "metadata": {},
   "source": [
    "---------------------------"
   ]
  },
  {
   "cell_type": "markdown",
   "id": "899ac5c5",
   "metadata": {},
   "source": [
    "# Implementacion Algoritmos"
   ]
  },
  {
   "cell_type": "code",
   "execution_count": 1,
   "id": "ab648157",
   "metadata": {},
   "outputs": [],
   "source": [
    "import pandas as pd\n",
    "import numpy as np\n",
    "import matplotlib.pyplot as plt"
   ]
  },
  {
   "cell_type": "code",
   "execution_count": 2,
   "id": "52d90daf",
   "metadata": {},
   "outputs": [],
   "source": [
    "clientes = pd.read_csv(\"Clientes Ventas.csv\")\n",
    "\n",
    "#Seleccionando las columnas que se usaran\n",
    "clientes = clientes.iloc[:, 2:]\n",
    "\n",
    "#Cambiando el nombre de las columnas\n",
    "clientes.columns=[\"Verduras\", \"Leche\", \"Comestibles\", \"Congelados\",\"PapelyDetergentes\",\"Otros\"]"
   ]
  },
  {
   "cell_type": "code",
   "execution_count": 3,
   "id": "779107df",
   "metadata": {},
   "outputs": [
    {
     "data": {
      "text/plain": [
       "Verduras             0\n",
       "Leche                0\n",
       "Comestibles          0\n",
       "Congelados           0\n",
       "PapelyDetergentes    0\n",
       "Otros                0\n",
       "dtype: int64"
      ]
     },
     "execution_count": 3,
     "metadata": {},
     "output_type": "execute_result"
    }
   ],
   "source": [
    "#Anlizando si hay datos perdidos\n",
    "clientes.isnull().sum() #No faltan datos."
   ]
  },
  {
   "cell_type": "code",
   "execution_count": 4,
   "id": "9b35eb26",
   "metadata": {},
   "outputs": [
    {
     "name": "stdout",
     "output_type": "stream",
     "text": [
      "<class 'pandas.core.frame.DataFrame'>\n",
      "RangeIndex: 440 entries, 0 to 439\n",
      "Data columns (total 6 columns):\n",
      " #   Column             Non-Null Count  Dtype\n",
      "---  ------             --------------  -----\n",
      " 0   Verduras           440 non-null    int64\n",
      " 1   Leche              440 non-null    int64\n",
      " 2   Comestibles        440 non-null    int64\n",
      " 3   Congelados         440 non-null    int64\n",
      " 4   PapelyDetergentes  440 non-null    int64\n",
      " 5   Otros              440 non-null    int64\n",
      "dtypes: int64(6)\n",
      "memory usage: 20.8 KB\n"
     ]
    }
   ],
   "source": [
    "# Analizando el tipo de datos\n",
    "clientes.info()"
   ]
  },
  {
   "cell_type": "markdown",
   "id": "574f6e6c",
   "metadata": {},
   "source": [
    "### Seleccioando una Muestra para luego categorizarlo"
   ]
  },
  {
   "cell_type": "code",
   "execution_count": 5,
   "id": "9928560b",
   "metadata": {},
   "outputs": [
    {
     "data": {
      "text/html": [
       "<div>\n",
       "<style scoped>\n",
       "    .dataframe tbody tr th:only-of-type {\n",
       "        vertical-align: middle;\n",
       "    }\n",
       "\n",
       "    .dataframe tbody tr th {\n",
       "        vertical-align: top;\n",
       "    }\n",
       "\n",
       "    .dataframe thead th {\n",
       "        text-align: right;\n",
       "    }\n",
       "</style>\n",
       "<table border=\"1\" class=\"dataframe\">\n",
       "  <thead>\n",
       "    <tr style=\"text-align: right;\">\n",
       "      <th></th>\n",
       "      <th>Verduras</th>\n",
       "      <th>Leche</th>\n",
       "      <th>Comestibles</th>\n",
       "      <th>Congelados</th>\n",
       "      <th>PapelyDetergentes</th>\n",
       "      <th>Otros</th>\n",
       "    </tr>\n",
       "  </thead>\n",
       "  <tbody>\n",
       "    <tr>\n",
       "      <th>65</th>\n",
       "      <td>85</td>\n",
       "      <td>20959</td>\n",
       "      <td>45828</td>\n",
       "      <td>36</td>\n",
       "      <td>24231</td>\n",
       "      <td>1423</td>\n",
       "    </tr>\n",
       "    <tr>\n",
       "      <th>123</th>\n",
       "      <td>11170</td>\n",
       "      <td>10769</td>\n",
       "      <td>8814</td>\n",
       "      <td>2194</td>\n",
       "      <td>1976</td>\n",
       "      <td>143</td>\n",
       "    </tr>\n",
       "    <tr>\n",
       "      <th>365</th>\n",
       "      <td>4692</td>\n",
       "      <td>6128</td>\n",
       "      <td>8025</td>\n",
       "      <td>1619</td>\n",
       "      <td>4515</td>\n",
       "      <td>3105</td>\n",
       "    </tr>\n",
       "  </tbody>\n",
       "</table>\n",
       "</div>"
      ],
      "text/plain": [
       "     Verduras  Leche  Comestibles  Congelados  PapelyDetergentes  Otros\n",
       "65         85  20959        45828          36              24231   1423\n",
       "123     11170  10769         8814        2194               1976    143\n",
       "365      4692   6128         8025        1619               4515   3105"
      ]
     },
     "execution_count": 5,
     "metadata": {},
     "output_type": "execute_result"
    }
   ],
   "source": [
    "indices = [65, 123, 365]\n",
    "muestras=pd.DataFrame(clientes.loc[indices])\n",
    "clientes = clientes.drop(indices, axis=0) # Se eliminan del DF original para que el modelo no los tome\n",
    "muestras"
   ]
  },
  {
   "cell_type": "markdown",
   "id": "a89d249d",
   "metadata": {},
   "source": [
    "## Escalando los datos"
   ]
  },
  {
   "cell_type": "code",
   "execution_count": 42,
   "id": "4d762769",
   "metadata": {},
   "outputs": [
    {
     "data": {
      "text/plain": [
       "array([[1.51963657e-03, 3.74706621e-01, 8.19316525e-01, 6.43610782e-04,\n",
       "        4.33203690e-01, 2.54405039e-02],\n",
       "       [6.17546139e-01, 5.95376399e-01, 4.87292003e-01, 1.21297782e-01,\n",
       "        1.09245405e-01, 7.90591745e-03],\n",
       "       [3.74922006e-01, 4.89667957e-01, 6.41250874e-01, 1.29368868e-01,\n",
       "        3.60778529e-01, 2.48110151e-01]])"
      ]
     },
     "execution_count": 42,
     "metadata": {},
     "output_type": "execute_result"
    }
   ],
   "source": [
    "from sklearn import preprocessing\n",
    "\n",
    "data_escalada = preprocessing.Normalizer().fit_transform(clientes)\n",
    "#data_escalada\n",
    "\n",
    "muestras= preprocessing.Normalizer().fit_transform(muestras)"
   ]
  },
  {
   "cell_type": "markdown",
   "id": "12629d1c",
   "metadata": {},
   "source": [
    "### Usando el Modelo"
   ]
  },
  {
   "cell_type": "code",
   "execution_count": 24,
   "id": "673b7102",
   "metadata": {},
   "outputs": [],
   "source": [
    "from sklearn.cluster import KMeans"
   ]
  },
  {
   "cell_type": "code",
   "execution_count": 25,
   "id": "503b0a12",
   "metadata": {},
   "outputs": [],
   "source": [
    "# Definiendo datos para el algoritmo\n",
    "x = data_escalada"
   ]
  },
  {
   "cell_type": "markdown",
   "id": "1cafc324",
   "metadata": {},
   "source": [
    "## Metodo del codo para definir el numero de clusters"
   ]
  },
  {
   "cell_type": "code",
   "execution_count": 36,
   "id": "cac26985",
   "metadata": {},
   "outputs": [
    {
     "name": "stderr",
     "output_type": "stream",
     "text": [
      "C:\\Users\\Arley\\anaconda3\\lib\\site-packages\\sklearn\\cluster\\_kmeans.py:1036: UserWarning: KMeans is known to have a memory leak on Windows with MKL, when there are less chunks than available threads. You can avoid it by setting the environment variable OMP_NUM_THREADS=2.\n",
      "  warnings.warn(\n"
     ]
    }
   ],
   "source": [
    "inercia = []\n",
    "for i in range(1,20):\n",
    "    algoritmo = KMeans(n_clusters=i, init= \"k-means++\",\n",
    "                       max_iter=300, n_init=10)\n",
    "    algoritmo.fit(x)\n",
    "    \n",
    "    #Se calcula para cada k, la suma total del cuadrado dentro del cluster\n",
    "    inercia.append(algoritmo.inertia_)"
   ]
  },
  {
   "cell_type": "code",
   "execution_count": 34,
   "id": "a2a93fa0",
   "metadata": {},
   "outputs": [
    {
     "data": {
      "image/png": "[encoded data removed]",
      "text/plain": [
       "<Figure size 1000x600 with 1 Axes>"
      ]
     },
     "metadata": {},
     "output_type": "display_data"
    }
   ],
   "source": [
    "#### Graficando para determinar el K optimo\n",
    "plt.figure(figsize=(10,6))\n",
    "plt.plot(list(range(1,20)), inercia, marker=\"o\")\n",
    "plt.xticks(range(1,20))\n",
    "plt.title(\"Metodo del Codo para hallar K Óptimo\")\n",
    "plt.xlabel(\"Nro de Clusters (K)\")\n",
    "plt.ylabel(\"Inercia\")\n",
    "plt.show()\n",
    "\n",
    "#PARA ESTE CASO SE TOMARA K=5 Aunque es un poco dudoso"
   ]
  },
  {
   "cell_type": "code",
   "execution_count": 38,
   "id": "f57dcdab",
   "metadata": {},
   "outputs": [
    {
     "data": {
      "text/plain": [
       "KMeans(n_clusters=5)"
      ]
     },
     "execution_count": 38,
     "metadata": {},
     "output_type": "execute_result"
    }
   ],
   "source": [
    "## Definiendo el algoritmo con K optimo\n",
    "algoritmo = KMeans(n_clusters=5, init= \"k-means++\", #init= Metodo de inicializacion del algoritmo\n",
    "                       max_iter=300, n_init=10) # n_init= Nro de veces que el algoritmo se ejecuta con diferentes centroides\n",
    "algoritmo.fit(x)"
   ]
  },
  {
   "cell_type": "markdown",
   "id": "7e623e1d",
   "metadata": {},
   "source": [
    "### Obteniendo Centroides y etiquetas"
   ]
  },
  {
   "cell_type": "code",
   "execution_count": 43,
   "id": "6d4873b4",
   "metadata": {},
   "outputs": [],
   "source": [
    "centroides, etiquetas = algoritmo.cluster_centers_, algoritmo.labels_"
   ]
  },
  {
   "cell_type": "markdown",
   "id": "f581c92e",
   "metadata": {},
   "source": [
    "### Predicciones de Nuevos Datos"
   ]
  },
  {
   "cell_type": "code",
   "execution_count": 53,
   "id": "24f99c3b",
   "metadata": {},
   "outputs": [
    {
     "name": "stdout",
     "output_type": "stream",
     "text": [
      "El valor 0 se encuentra en el cluster 1\n",
      "El valor 1 se encuentra en el cluster 0\n",
      "El valor 2 se encuentra en el cluster 1\n"
     ]
    }
   ],
   "source": [
    "predicciones = algoritmo.predict(muestras)\n",
    "\n",
    "for i, j in enumerate(predicciones):\n",
    "    print(f\"El valor {i} se encuentra en el cluster {j}\")"
   ]
  }
 ],
 "metadata": {
  "kernelspec": {
   "display_name": "Python 3 (ipykernel)",
   "language": "python",
   "name": "python3"
  },
  "language_info": {
   "codemirror_mode": {
    "name": "ipython",
    "version": 3
   },
   "file_extension": ".py",
   "mimetype": "text/x-python",
   "name": "python",
   "nbconvert_exporter": "python",
   "pygments_lexer": "ipython3",
   "version": "3.9.13"
  }
 },
 "nbformat": 4,
 "nbformat_minor": 5
}
