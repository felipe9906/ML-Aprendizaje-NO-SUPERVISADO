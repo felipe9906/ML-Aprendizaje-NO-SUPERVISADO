{
 "cells": [
  {
   "cell_type": "markdown",
   "id": "25f503bd",
   "metadata": {},
   "source": [
    "# ALGORITMOS NO SUPERVISADOS ML"
   ]
  },
  {
   "cell_type": "markdown",
   "id": "9d9ac301",
   "metadata": {},
   "source": [
    "* Se usan cuando los datos no estan etiquetados buscando patrones iniciales\n",
    "* No SUPERVISADO se refiere a que el algoritmo no esta guiado para el aprendizaje\n",
    "* Los patrones que encuentra este algoritmo se quedan bajos en comparacion a lo que puede hacer el aprendizaje supervisado\n",
    "* No se puede medir su precision"
   ]
  },
  {
   "cell_type": "markdown",
   "id": "3a4255d5",
   "metadata": {},
   "source": [
    "## EJEMPLOS DE USO\n",
    "* Determinar un mercado objetivo en una zona donde nunca se ha implementado un pdto\n"
   ]
  },
  {
   "cell_type": "markdown",
   "id": "1a6d2548",
   "metadata": {},
   "source": [
    "## QUE SE OBTIENE?\n",
    "* Patrones de todos tipos\n",
    "* Extraer ideas\n",
    "* Describe la informacion de una manera exploratoria"
   ]
  },
  {
   "cell_type": "markdown",
   "id": "9265fb9b",
   "metadata": {},
   "source": [
    "# TIPOS DE APRENDIZAJE NO SUPERVISADO\n"
   ]
  },
  {
   "cell_type": "markdown",
   "id": "9a19a166",
   "metadata": {},
   "source": [
    "## 1. AGRUPAMIENTO o CLUSTERS\n",
    "* Busca estructuras o patrones en datos no CATEGORIZADOS\n",
    "* Permiten modificar la granuralidad o cantidad de grupos\n",
    "\n",
    "### TIPOS\n",
    "1. Exclusivo\n",
    "    * Un dato solo puede pertenecer a un grupo\n",
    "2. Aglomerativo\n",
    "    * Cada dato es un cluster. Se unen clusteres mas cercanos\n",
    "3. Solapamiento\n",
    "    * Un dato puede estar en mas de un cluster\n",
    "4. Proabilistico\n",
    "    * Utiliza la distribucion de probabilidad para asociar"
   ]
  },
  {
   "cell_type": "markdown",
   "id": "cd8620b2",
   "metadata": {},
   "source": [
    "## 2. Asociación\n",
    "* Intenta descubrir relaciones entre variables en grandes basas de datos"
   ]
  },
  {
   "cell_type": "markdown",
   "id": "cb802ee6",
   "metadata": {},
   "source": [
    "### DESAFIOS EN LA IMPLEMENTACION"
   ]
  },
  {
   "cell_type": "code",
   "execution_count": null,
   "id": "6d61fac5",
   "metadata": {},
   "outputs": [],
   "source": [
    "* Es dificil saber si el trabajo se esta haciendo o no\n",
    "* Una manera de saberlo es implementar una muestra en la vida real\n",
    "* Computacionalmente es complejo\n",
    "* \n"
   ]
  }
 ],
 "metadata": {
  "kernelspec": {
   "display_name": "Python 3 (ipykernel)",
   "language": "python",
   "name": "python3"
  },
  "language_info": {
   "codemirror_mode": {
    "name": "ipython",
    "version": 3
   },
   "file_extension": ".py",
   "mimetype": "text/x-python",
   "name": "python",
   "nbconvert_exporter": "python",
   "pygments_lexer": "ipython3",
   "version": "3.9.13"
  }
 },
 "nbformat": 4,
 "nbformat_minor": 5
}
